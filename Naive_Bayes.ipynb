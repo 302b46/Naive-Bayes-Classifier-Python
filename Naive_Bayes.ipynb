{
 "cells": [
  {
   "cell_type": "code",
   "execution_count": 54,
   "id": "aeada0d5",
   "metadata": {},
   "outputs": [
    {
     "name": "stdout",
     "output_type": "stream",
     "text": [
      "P(ham) =  0.42633333333333334\n",
      "P(spam) =  0.5736666666666667\n"
     ]
    },
    {
     "ename": "AttributeError",
     "evalue": "'int' object has no attribute 'sum'",
     "output_type": "error",
     "traceback": [
      "\u001b[0;31m---------------------------------------------------------------------------\u001b[0m",
      "\u001b[0;31mAttributeError\u001b[0m                            Traceback (most recent call last)",
      "\u001b[0;32m/tmp/ipykernel_6097/2503109532.py\u001b[0m in \u001b[0;36m<module>\u001b[0;34m\u001b[0m\n\u001b[1;32m     87\u001b[0m \u001b[0;34m\u001b[0m\u001b[0m\n\u001b[1;32m     88\u001b[0m \u001b[0;32mfor\u001b[0m \u001b[0mword\u001b[0m \u001b[0;32min\u001b[0m \u001b[0mvocabulary\u001b[0m\u001b[0;34m:\u001b[0m\u001b[0;34m\u001b[0m\u001b[0;34m\u001b[0m\u001b[0m\n\u001b[0;32m---> 89\u001b[0;31m    \u001b[0mnumOfWordsGivenSpam\u001b[0m \u001b[0;34m=\u001b[0m \u001b[0mtotalSpam\u001b[0m\u001b[0;34m[\u001b[0m\u001b[0mword\u001b[0m\u001b[0;34m]\u001b[0m\u001b[0;34m.\u001b[0m\u001b[0msum\u001b[0m\u001b[0;34m(\u001b[0m\u001b[0;34m)\u001b[0m \u001b[0;31m# spam_messages already defined\u001b[0m\u001b[0;34m\u001b[0m\u001b[0;34m\u001b[0m\u001b[0m\n\u001b[0m\u001b[1;32m     90\u001b[0m    \u001b[0mp_word_given_spam\u001b[0m \u001b[0;34m=\u001b[0m \u001b[0;34m(\u001b[0m\u001b[0mn_word_given_spam\u001b[0m \u001b[0;34m+\u001b[0m \u001b[0malpha\u001b[0m\u001b[0;34m)\u001b[0m \u001b[0;34m/\u001b[0m \u001b[0;34m(\u001b[0m\u001b[0mn_spam\u001b[0m \u001b[0;34m+\u001b[0m \u001b[0malpha\u001b[0m\u001b[0;34m*\u001b[0m\u001b[0mn_vocabulary\u001b[0m\u001b[0;34m)\u001b[0m\u001b[0;34m\u001b[0m\u001b[0;34m\u001b[0m\u001b[0m\n\u001b[1;32m     91\u001b[0m    \u001b[0mparameters_spam\u001b[0m\u001b[0;34m[\u001b[0m\u001b[0mword\u001b[0m\u001b[0;34m]\u001b[0m \u001b[0;34m=\u001b[0m \u001b[0mp_word_given_spam\u001b[0m\u001b[0;34m\u001b[0m\u001b[0;34m\u001b[0m\u001b[0m\n",
      "\u001b[0;31mAttributeError\u001b[0m: 'int' object has no attribute 'sum'"
     ]
    }
   ],
   "source": [
    "import pandas as pd\n",
    "\n",
    "filePath = \"/home/n302b46/Desktop/Senior Year/Courses/Selected Topics/Lab/HomeAssignment2/data/train\"\n",
    "\n",
    "trainFile = pd.read_csv(filePath, header=None)\n",
    "\n",
    "#Organizing the text file to make it readable \n",
    "trainFile['EmailID'] = trainFile[0].apply(lambda row: row.split()[0])\n",
    "trainFile['Target'] = trainFile[0].apply(lambda row: row.split()[1])\n",
    "trainFile['Message'] = trainFile[0].apply(lambda row: row.split()[2])\n",
    "\n",
    "countPerWord = trainFile[0].apply(lambda row: row.split())\n",
    "\n",
    "#Counting the occurrence of each word \n",
    "def dictionary(words):\n",
    "        i = 0\n",
    "        wordCount = {}\n",
    "        while i < len(words):\n",
    "            if(i == 0 or i == 1):\n",
    "                i += 1\n",
    "                continue\n",
    "            wordCount[words[i]] = int(words[i+1])\n",
    "            i +=2\n",
    "        return wordCount\n",
    "\n",
    "\n",
    "trainFile['CountPerWord'] = countPerWord.apply(dictionary)\n",
    "trainFile = trainFile.drop([0],axis = 1)\n",
    "\n",
    "\n",
    "#print(trainFile)   \n",
    "    \n",
    "\n",
    "    \n",
    "#---------------------------------------------------------------------------------#\n",
    "\n",
    "from collections import Counter\n",
    "from collections import OrderedDict\n",
    "\n",
    "#Function that counts total number of words\n",
    "def countWords(trainData = ''):\n",
    "    wordCount = Counter()\n",
    "    if(trainData == ''):\n",
    "        for dict in trainFile['CountPerWord']:\n",
    "            wordCount += dict\n",
    "        return wordCount\n",
    "    else:\n",
    "        for dict in trainFile[trainFile[\"Target\"] == trainData]['CountPerWord']:\n",
    "            wordCount += dict\n",
    "        return wordCount\n",
    "\n",
    "totalWords = countWords()\n",
    "totalHam = countWords(\"ham\") #total words in all ham emails\n",
    "totalSpam = countWords(\"spam\") #total words in all spam emails\n",
    "\n",
    "#Sorting the targets \n",
    "\n",
    "sortedHam = {j: k for j, k in sorted(totalHam.items(), key=lambda item: item[1],reverse = True)}\n",
    "sortedSpam = {j: k for j, k in sorted(totalSpam.items(), key=lambda item: item[1],reverse = True)}\n",
    "\n",
    "hamProbability = trainFile['Target'].value_counts()['ham']/trainFile.shape[0]\n",
    "\n",
    "spamProbability = trainFile['Target'].value_counts()['spam']/trainFile.shape[0]\n",
    "\n",
    "print(\"P(ham) = \", hamProbability)\n",
    "print(\"P(spam) = \", spamProbability)\n",
    "\n",
    "#---------------------------------------------------------------------------------#\n",
    "\n",
    "trainFile['Message'] = trainFile['Message'].str.split()\n",
    "#Determining the vocabulary \n",
    "vocabulary = []\n",
    "\n",
    "#Something is wrong here, there is no way that the length is 86\n",
    "for msg in trainFile['Message']:\n",
    "    for word in msg:\n",
    "        vocabulary.append(word)\n",
    "vocabulary = list(set(vocabulary))\n",
    "#print(\"vocab length:\",len(vocabulary)) #output: 86\n",
    "\n",
    "\n",
    "#Applying Laplace smoothing \n",
    "alpha = 2000\n",
    "\n"
   ]
  },
  {
   "cell_type": "code",
   "execution_count": null,
   "id": "6ea5f850",
   "metadata": {},
   "outputs": [],
   "source": []
  }
 ],
 "metadata": {
  "kernelspec": {
   "display_name": "Python 3 (ipykernel)",
   "language": "python",
   "name": "python3"
  },
  "language_info": {
   "codemirror_mode": {
    "name": "ipython",
    "version": 3
   },
   "file_extension": ".py",
   "mimetype": "text/x-python",
   "name": "python",
   "nbconvert_exporter": "python",
   "pygments_lexer": "ipython3",
   "version": "3.8.10"
  }
 },
 "nbformat": 4,
 "nbformat_minor": 5
}
